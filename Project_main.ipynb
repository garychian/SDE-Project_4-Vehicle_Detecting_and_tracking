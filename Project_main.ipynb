{
 "cells": [
  {
   "cell_type": "code",
   "execution_count": 1,
   "metadata": {},
   "outputs": [],
   "source": [
    "import numpy as np\n",
    "import cv2\n",
    "import pickle\n",
    "\n",
    "\n",
    "from detection_functions.Vehicle_Classification import *\n",
    "from detection_functions.Vehicle import *\n",
    "\n",
    "from moviepy.editor import VideoFileClip"
   ]
  },
  {
   "cell_type": "code",
   "execution_count": 2,
   "metadata": {},
   "outputs": [
    {
     "name": "stderr",
     "output_type": "stream",
     "text": [
      "\r",
      "t:   0%|                                                                            | 0/1260 [00:00<?, ?it/s, now=None]"
     ]
    },
    {
     "name": "stdout",
     "output_type": "stream",
     "text": [
      "Moviepy - Building video project_video_calc.mp4.\n",
      "Moviepy - Writing video project_video_calc.mp4\n",
      "\n"
     ]
    },
    {
     "name": "stderr",
     "output_type": "stream",
     "text": [
      "                                                                                                                       \r"
     ]
    },
    {
     "name": "stdout",
     "output_type": "stream",
     "text": [
      "Moviepy - Done !\n",
      "Moviepy - video ready project_video_calc.mp4\n"
     ]
    }
   ],
   "source": [
    "MTX = None \n",
    "DIST = None\n",
    "\n",
    "VERBOSE = False\n",
    "\n",
    "def process_image(raw_image, correct_distortion=False):\n",
    "    img_shape = raw_image.shape\n",
    "    \n",
    "    if correct_distortion:\n",
    "        # Correct_distortion with calculated Camera calibration\n",
    "        global MTX, DIST, VERBOSE\n",
    "        mtx,dist,process_image = correct_distortion(raw_image,mtx=MTX,dist=DIST,verbose = VERBOSE)\n",
    "        if (MTX == None) | (DIST == None):\n",
    "            MTX = mtx\n",
    "            DIST = dist\n",
    "    else:\n",
    "        process_image = raw_image\n",
    "    if vehicle_collection.image_initialized == False:\n",
    "        vehicle_collection.initalize_image(img_shape=process_image.shape, y_start_stop=[440, 720], xy_window=(360, 360), xy_overlap=(0.9, 0.8))\n",
    "    vehicle_collection.find_hot_windows(process_image, vehicle_classification)\n",
    "    vehicle_collection.analyze_current_stripe(process_image)\n",
    "\n",
    "    draw_image = vehicle_collection.identify_vehicles(process_image)\n",
    "\n",
    "    return draw_image\n",
    "\n",
    "if __name__ == \"__main__\":\n",
    "    VERBOSE = True\n",
    "    LEARN_NEW_CLASSIFIER = False\n",
    "\n",
    "    vehicle_classification = Vehicle_Classification()\n",
    "    vehicle_classification.train_classifier(LEARN_NEW_CLASSIFIER)\n",
    "\n",
    "    vehicle_collection = Vehicle_Collection()\n",
    "\n",
    "    heatmap_frame_collection = None\n",
    "\n",
    "    #image = cv2.imread('./test_images/test6.jpg')\n",
    "    #image = cv2.cvtColor(image, cv2.COLOR_BGR2RGB)\n",
    "    #processed_image = process_image(image)\n",
    "    #processed_image = cv2.cvtColor(processed_image,cv2.COLOR_RGB2BGR)\n",
    "    #cv2.imshow('Resulting Image', processed_image)\n",
    "\n",
    "    #cv2.imwrite('../output_images/test2_applied_lane_lines.jpg', combo)\n",
    "\n",
    "    video_output = ('project_video_calc.mp4')\n",
    "    clip1 = VideoFileClip('project_video.mp4')\n",
    "    \n",
    "    #clip1 = VideoFileClip('./test_video.mp4')\n",
    "    #clip1 = VideoFileClip('../harder_challenge_video.mp4')\n",
    "    #pdb.set_trace()\n",
    "    white_clip_1 = clip1.fl_image(process_image)  # NOTE: this function expects color images!!\n",
    "    white_clip_1.write_videofile(video_output, audio=False)\n",
    "        "
   ]
  },
  {
   "cell_type": "code",
   "execution_count": null,
   "metadata": {},
   "outputs": [],
   "source": []
  }
 ],
 "metadata": {
  "kernelspec": {
   "display_name": "Python 3",
   "language": "python",
   "name": "python3"
  },
  "language_info": {
   "codemirror_mode": {
    "name": "ipython",
    "version": 3
   },
   "file_extension": ".py",
   "mimetype": "text/x-python",
   "name": "python",
   "nbconvert_exporter": "python",
   "pygments_lexer": "ipython3",
   "version": "3.6.10"
  }
 },
 "nbformat": 4,
 "nbformat_minor": 4
}
